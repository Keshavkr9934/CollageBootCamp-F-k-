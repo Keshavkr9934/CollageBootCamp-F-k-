{
  "nbformat": 4,
  "nbformat_minor": 0,
  "metadata": {
    "colab": {
      "provenance": []
    },
    "kernelspec": {
      "name": "python3",
      "display_name": "Python 3"
    },
    "language_info": {
      "name": "python"
    }
  },
  "cells": [
    {
      "cell_type": "code",
      "execution_count": 2,
      "metadata": {
        "colab": {
          "base_uri": "https://localhost:8080/"
        },
        "id": "E2aukBOJt6Pi",
        "outputId": "3a3f1366-b766-4307-daca-9949858a12bf"
      },
      "outputs": [
        {
          "output_type": "stream",
          "name": "stdout",
          "text": [
            "[1, 2, 4, 5]\n"
          ]
        }
      ],
      "source": [
        "# 1 Remove all occurrences of a specific value from a list\n",
        "\n",
        "def remove_occurrences(lst, value):\n",
        "    lst.remove(value)\n",
        "    return lst\n",
        "\n",
        "my_list = [1, 2, 3, 4, 3, 5]\n",
        "value_to_remove = 3\n",
        "my_list = [x for x in my_list if x != value_to_remove]\n",
        "print(my_list)\n"
      ]
    },
    {
      "cell_type": "code",
      "source": [
        "# Concatenate a list of strings into a single string separated by spaces\n",
        "def concatenate_strings(string_list):\n",
        "    return ' '.join(string_list)\n",
        "\n",
        "my_strings = ['Hello', 'world', 'this', 'is', 'Python']\n",
        "result = concatenate_strings(my_strings)\n",
        "print(result)\n"
      ],
      "metadata": {
        "colab": {
          "base_uri": "https://localhost:8080/"
        },
        "id": "RQvpVzW2uYW9",
        "outputId": "cb648888-67da-4d68-f469-84b5ef499577"
      },
      "execution_count": 4,
      "outputs": [
        {
          "output_type": "stream",
          "name": "stdout",
          "text": [
            "Hello world this is Python\n"
          ]
        }
      ]
    },
    {
      "cell_type": "code",
      "source": [
        "# 3 :- Reverse a list of integers\n",
        "def reverse_list(lst):\n",
        "    lst.reverse()\n",
        "    return lst\n",
        "\n",
        "my_list = [1, 2, 3, 4, 5]\n",
        "reversed_list = reverse_list(my_list)\n",
        "print(reversed_list)\n"
      ],
      "metadata": {
        "colab": {
          "base_uri": "https://localhost:8080/"
        },
        "id": "OF2qaZFvui-C",
        "outputId": "0f901986-8f6b-422c-bc64-c47d6252bcdb"
      },
      "execution_count": 6,
      "outputs": [
        {
          "output_type": "stream",
          "name": "stdout",
          "text": [
            "[5, 4, 3, 2, 1]\n"
          ]
        }
      ]
    },
    {
      "cell_type": "code",
      "source": [
        "# 4 Sort a list of numbers in descending order\n",
        "\n",
        "def sort_descending(lst):\n",
        "    lst.sort(reverse=True)\n",
        "    return lst\n",
        "\n",
        "my_numbers = [5, 2, 9, 1, 5, 6]\n",
        "sorted_numbers = sort_descending(my_numbers)\n",
        "print(sorted_numbers)\n"
      ],
      "metadata": {
        "colab": {
          "base_uri": "https://localhost:8080/"
        },
        "id": "y_UTmaROusNt",
        "outputId": "cea7e010-6d6c-4917-942b-4f36cada2952"
      },
      "execution_count": 8,
      "outputs": [
        {
          "output_type": "stream",
          "name": "stdout",
          "text": [
            "[9, 6, 5, 5, 2, 1]\n"
          ]
        }
      ]
    },
    {
      "cell_type": "code",
      "source": [
        "# 5 Combine two lists and remove duplicates\n",
        "\n",
        "def combine_and_remove_duplicates(list1, list2):\n",
        "    combined = list1 + list2\n",
        "    return list(set(combined))\n",
        "\n",
        "list1 = [1, 2, 3]\n",
        "list2 = [3, 4, 5]\n",
        "result = combine_and_remove_duplicates(list1, list2)\n",
        "print(result)\n"
      ],
      "metadata": {
        "colab": {
          "base_uri": "https://localhost:8080/"
        },
        "id": "Ow_OVlTMu2vj",
        "outputId": "1b1f613a-2ea5-4467-865b-4b44db263de7"
      },
      "execution_count": 10,
      "outputs": [
        {
          "output_type": "stream",
          "name": "stdout",
          "text": [
            "[1, 2, 3, 4, 5]\n"
          ]
        }
      ]
    },
    {
      "cell_type": "code",
      "source": [
        "# 6 Convert a tuple into a list and remove the first and last elements\n",
        "\n",
        "def convert_and_trim(tup):\n",
        "    lst = list(tup)\n",
        "    return lst[1:-1]\n",
        "\n",
        "my_tuple = (1, 2, 3, 4, 5)\n",
        "trimmed_list = convert_and_trim(my_tuple)\n",
        "print(trimmed_list)\n"
      ],
      "metadata": {
        "colab": {
          "base_uri": "https://localhost:8080/"
        },
        "id": "tCtM0Rf-u_d0",
        "outputId": "fc74c4a3-f468-4797-963d-08b1e068594f"
      },
      "execution_count": 12,
      "outputs": [
        {
          "output_type": "stream",
          "name": "stdout",
          "text": [
            "[2, 3, 4]\n"
          ]
        }
      ]
    },
    {
      "cell_type": "code",
      "source": [
        "# 7 Extract the first elements from a list of tuples\n",
        "\n",
        "def extract_first_elements(tuples):\n",
        "    return [x[0] for x in tuples]\n",
        "\n",
        "my_tuples = [(1, 'a'), (2, 'b'), (3, 'c')]\n",
        "first_elements = extract_first_elements(my_tuples)\n",
        "print(first_elements)\n"
      ],
      "metadata": {
        "colab": {
          "base_uri": "https://localhost:8080/"
        },
        "id": "eo6yoTZGvIcL",
        "outputId": "dc41ff91-c9c7-4b3f-ecd1-607a2cf99cd2"
      },
      "execution_count": 14,
      "outputs": [
        {
          "output_type": "stream",
          "name": "stdout",
          "text": [
            "[1, 2, 3]\n"
          ]
        }
      ]
    },
    {
      "cell_type": "code",
      "source": [
        "# 8 Combine two tuples into a single tuple\n",
        "\n",
        "def combine_tuples(tup1, tup2):\n",
        "    return tup1 + tup2\n",
        "\n",
        "tuple1 = (1, 2)\n",
        "tuple2 = (3, 4)\n",
        "combined_tuple = combine_tuples(tuple1, tuple2)\n",
        "print(combined_tuple)\n"
      ],
      "metadata": {
        "colab": {
          "base_uri": "https://localhost:8080/"
        },
        "id": "X5TUBnMUvQoB",
        "outputId": "8332cc09-ec37-4268-b388-a71aa7189cda"
      },
      "execution_count": 16,
      "outputs": [
        {
          "output_type": "stream",
          "name": "stdout",
          "text": [
            "(1, 2, 3, 4)\n"
          ]
        }
      ]
    },
    {
      "cell_type": "code",
      "source": [
        "# 9 Find the maximum and minimum values in a tuple\n",
        "\n",
        "def find_max_min(tup):\n",
        "    return max(tup), min(tup)\n",
        "\n",
        "my_tuple = (1, 2, 3, 4, 5)\n",
        "max_val, min_val = find_max_min(my_tuple)\n",
        "print(max_val, min_val)\n"
      ],
      "metadata": {
        "colab": {
          "base_uri": "https://localhost:8080/"
        },
        "id": "lIqZMhn7vZVA",
        "outputId": "90012552-8c61-4d16-bee8-d8b9bd198b81"
      },
      "execution_count": 18,
      "outputs": [
        {
          "output_type": "stream",
          "name": "stdout",
          "text": [
            "5 1\n"
          ]
        }
      ]
    },
    {
      "cell_type": "code",
      "source": [
        "# 10 Convert a tuple of strings into a single string separated by commas\n",
        "\n",
        "def convert_to_string(tup):\n",
        "    return ', '.join(tup)\n",
        "\n",
        "my_string_tuple = ('apple', 'banana', 'cherry')\n",
        "result_string = convert_to_string(my_string_tuple)\n",
        "print(result_string)"
      ],
      "metadata": {
        "colab": {
          "base_uri": "https://localhost:8080/"
        },
        "id": "Ykx_kHxIvhu9",
        "outputId": "23b5c1fb-7578-46de-b0ee-ef64d9b1caf5"
      },
      "execution_count": 20,
      "outputs": [
        {
          "output_type": "stream",
          "name": "stdout",
          "text": [
            "apple, banana, cherry\n"
          ]
        }
      ]
    },
    {
      "cell_type": "code",
      "source": [
        "# 11 Return the union of two sets\n",
        "def union_of_sets(set1, set2):\n",
        "    return set1 | set2\n",
        "\n",
        "set1 = {1, 2, 3}\n",
        "set2 = {3, 4, 5}\n",
        "union_result = union_of_sets(set1, set2)\n",
        "print(union_result)\n"
      ],
      "metadata": {
        "colab": {
          "base_uri": "https://localhost:8080/"
        },
        "id": "jy6GD5DXvp0C",
        "outputId": "280d5aa8-2889-455e-ba9a-351257513862"
      },
      "execution_count": 22,
      "outputs": [
        {
          "output_type": "stream",
          "name": "stdout",
          "text": [
            "{1, 2, 3, 4, 5}\n"
          ]
        }
      ]
    },
    {
      "cell_type": "code",
      "source": [
        "# 12 Find the intersection of two sets\n",
        "\n",
        "def intersection_of_sets(set1, set2):\n",
        "    return set1 & set2\n",
        "\n",
        "set1 = {1, 2, 3}\n",
        "set2 = {2, 3, 4}\n",
        "intersection_result = intersection_of_sets(set1, set2)\n",
        "print(intersection_result)\n"
      ],
      "metadata": {
        "colab": {
          "base_uri": "https://localhost:8080/"
        },
        "id": "PYk1MxOMvxE3",
        "outputId": "6957997f-8c60-481c-f4e4-b3e29efa5a35"
      },
      "execution_count": 24,
      "outputs": [
        {
          "output_type": "stream",
          "name": "stdout",
          "text": [
            "{2, 3}\n"
          ]
        }
      ]
    },
    {
      "cell_type": "code",
      "source": [
        "# 13Remove elements from one set that are also present in another set\n",
        "def remove_intersection(set1, set2):\n",
        "    set1 -= set2\n",
        "    return set1\n",
        "\n",
        "set1 = {1, 2, 3, 4}\n",
        "set2 = {3, 4, 5}\n",
        "result_set = remove_intersection(set1, set2)\n",
        "print(result_set)\n"
      ],
      "metadata": {
        "colab": {
          "base_uri": "https://localhost:8080/"
        },
        "id": "o9vVma5ev4iO",
        "outputId": "add2f2db-abb2-41e5-bb78-59bd613e5de3"
      },
      "execution_count": 25,
      "outputs": [
        {
          "output_type": "stream",
          "name": "stdout",
          "text": [
            "{1, 2}\n"
          ]
        }
      ]
    },
    {
      "cell_type": "code",
      "source": [
        "#  14 :- Find the difference between two sets:\n",
        "\n",
        "def remove_intersection(set1, set2):\n",
        "    set1 -= set2\n",
        "    return set1\n",
        "\n",
        "set1 = {1, 2, 3, 4}\n",
        "set2 = {3, 4, 5}\n",
        "result_set = remove_intersection(set1, set2)\n",
        "print(result_set)\n"
      ],
      "metadata": {
        "colab": {
          "base_uri": "https://localhost:8080/"
        },
        "id": "wjOriUliwB1A",
        "outputId": "42e544d0-a9a2-46e2-eb18-98ec0e235791"
      },
      "execution_count": 27,
      "outputs": [
        {
          "output_type": "stream",
          "name": "stdout",
          "text": [
            "{1, 2}\n"
          ]
        }
      ]
    },
    {
      "cell_type": "code",
      "source": [
        "# 15 Convert a list into a set and then back to a list to remove duplicates\n",
        "\n",
        "def remove_duplicates(lst):\n",
        "    return list(set(lst))\n",
        "\n",
        "my_list = [1, 2, 2, 3, 4, 4, 5]\n",
        "unique_list = remove_duplicates(my_list)\n",
        "print(unique_list)\n"
      ],
      "metadata": {
        "colab": {
          "base_uri": "https://localhost:8080/"
        },
        "id": "0ni7n8pAwLe-",
        "outputId": "d6a29645-7334-4259-a32e-455b45a13ecc"
      },
      "execution_count": 29,
      "outputs": [
        {
          "output_type": "stream",
          "name": "stdout",
          "text": [
            "[1, 2, 3, 4, 5]\n"
          ]
        }
      ]
    },
    {
      "cell_type": "code",
      "source": [
        "#  16 Merge two dictionaries into a single dictionary\n",
        "\n",
        "def merge_dictionaries(dict1, dict2):\n",
        "    return {**dict1, **dict2}\n",
        "\n",
        "dict1 = {'a': 1, 'b': 2}\n",
        "dict2 = {'b': 3, 'c': 4}\n",
        "merged_dict = merge_dictionaries(dict1, dict2)\n",
        "print(merged_dict)\n"
      ],
      "metadata": {
        "colab": {
          "base_uri": "https://localhost:8080/"
        },
        "id": "6WJalg9PwU5f",
        "outputId": "18aa082e-68fa-4317-899e-2e8198e1f62d"
      },
      "execution_count": 31,
      "outputs": [
        {
          "output_type": "stream",
          "name": "stdout",
          "text": [
            "{'a': 1, 'b': 3, 'c': 4}\n"
          ]
        }
      ]
    },
    {
      "cell_type": "code",
      "source": [
        "#  17 : Extract all values from a dictionary into a list\n",
        "\n",
        "def merge_dictionaries(dict1, dict2):\n",
        "    return {**dict1, **dict2}\n",
        "\n",
        "dict1 = {'a': 1, 'b': 2}\n",
        "dict2 = {'b': 3, 'c': 4}\n",
        "merged_dict = merge_dictionaries(dict1, dict2)\n",
        "print(merged_dict)\n"
      ],
      "metadata": {
        "colab": {
          "base_uri": "https://localhost:8080/"
        },
        "id": "Bl8Fcf2YwdjX",
        "outputId": "828f7695-9060-4cb6-d4cf-2a7706620e90"
      },
      "execution_count": 32,
      "outputs": [
        {
          "output_type": "stream",
          "name": "stdout",
          "text": [
            "{'a': 1, 'b': 3, 'c': 4}\n"
          ]
        }
      ]
    },
    {
      "cell_type": "code",
      "source": [],
      "metadata": {
        "id": "OFmaVRjqwkzt"
      },
      "execution_count": null,
      "outputs": []
    }
  ]
}